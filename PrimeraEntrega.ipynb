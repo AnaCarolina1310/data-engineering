{
 "cells": [
  {
   "cell_type": "code",
   "execution_count": 18,
   "metadata": {},
   "outputs": [],
   "source": [
    "#Importando librerías necesarias \n",
    "\n",
    "import redshift_connector\n",
    "import requests\n",
    "import pandas as pd\n",
    "from datetime import datetime"
   ]
  },
  {
   "cell_type": "code",
   "execution_count": 19,
   "metadata": {},
   "outputs": [
    {
     "name": "stdout",
     "output_type": "stream",
     "text": [
      "Se realizó la conexión correctamente \n"
     ]
    }
   ],
   "source": [
    "#Estableciendo la conexión con la base de datos \n",
    "\n",
    "with open(\"C:/Users/Carolina/Desktop/password.txt\",'r') as file:\n",
    "    pwd= file.read()\n",
    "host='data-engineer-cluster.cyhh5bfevlmn.us-east-1.redshift.amazonaws.com'\n",
    "db='data-engineer-database'\n",
    "user='carolina_cargnelutti_coderhouse'\n",
    "\n",
    "try: \n",
    "    conn = redshift_connector.connect(\n",
    "        host=host,\n",
    "        database=db,\n",
    "        password=pwd,\n",
    "        port=5439,\n",
    "        user=user      \n",
    "  )\n",
    "    cursor = conn.cursor()\n",
    "    print('Se realizó la conexión correctamente ')\n",
    "\n",
    "except Exception as e:\n",
    "    print('No fue posible realizar la conexión')"
   ]
  },
  {
   "cell_type": "code",
   "execution_count": 20,
   "metadata": {},
   "outputs": [],
   "source": [
    "#Creando la tabla en la base de datos\n",
    "\n",
    "query=\"CREATE TABLE IF NOT EXISTS carolina_cargnelutti_coderhouse.weather(id INT primary key NOT NULL, location VARCHAR,region VARCHAR,temperature INTEGER,condition VARCHAR,wind INT,wind_direction VARCHAR,humidity INT,feels_like INTEGER ,visibility INTEGER,updated DATE)\"\n",
    "cursor.execute(query)\n",
    "conn.commit()"
   ]
  },
  {
   "cell_type": "code",
   "execution_count": 21,
   "metadata": {},
   "outputs": [
    {
     "name": "stdout",
     "output_type": "stream",
     "text": [
      "La tabla no tiene registros\n"
     ]
    }
   ],
   "source": [
    "#Comprobando que la tabla esta vacia  \n",
    "\n",
    "cursor.execute('SELECT * FROM carolina_cargnelutti_coderhouse.weather')\n",
    "weather_table=cursor.fetchall()\n",
    "if len(weather_table)>0:\n",
    "    cursor.execute('TRUNCATE TABLE carolina_cargnelutti_coderhouse.weather')\n",
    "    print('Se eliminaron correctamente todos los registros de la tabla')\n",
    "else:\n",
    "    print('La tabla no tiene registros')"
   ]
  },
  {
   "cell_type": "code",
   "execution_count": 22,
   "metadata": {},
   "outputs": [],
   "source": [
    "#Extrayendo datos de la API\n",
    "\n",
    "def request(localidad):\n",
    "    url='http://api.weatherapi.com/v1/forecast.json?key=9bc72106866d42c28da193618240701 &q='+str(localidad)+'&days=1&aqi=yes&alerts=no'\n",
    "    response=requests.get(url).json()\n",
    "    return response\n",
    "\n",
    "def dateFormat(date):\n",
    "   date_format = '%Y-%m-%d %H:%M' \n",
    "   update_date = datetime.strptime(date, date_format)\n",
    "   return update_date\n",
    "\n",
    "data={'location':[],'region':[],'temperature':[],'condition':[], 'wind':[], 'wind_direction':[], 'humidity':[],\n",
    "     'feels_like': [], 'visibility':[],'updated':[]}\n",
    "\n",
    "locations= ['Buenos Aires','Catamarca','Córdoba','Cataratas del Iguazú','Comodoro Rivadavia','Concordia','El Calafate','Ezeiza','Formosa','Jujuy','Mar del Plata','Mendoza','Neuquen','Paraná','Posadas','Puerto Madryn',\n",
    "    'Reconquista','Salta','San Carlos de Bariloche', 'Rio Gallegos', 'Termas de Rio Hondo', 'Ushuaia']\n",
    "\n",
    "for location in locations:\n",
    "    response=request(location)\n",
    "\n",
    "    location= response['location']['name']\n",
    "    region= response['location']['region']\n",
    "    temperature =response['current']['temp_c']\n",
    "    feels_like= response['current']['feelslike_c']\n",
    "    condition = response['current']['condition']['text']\n",
    "    wind = response['current']['wind_kph']\n",
    "    wind_direction=response['current']['wind_dir']\n",
    "    humidity=response['current']['humidity']\n",
    "    visibility=response['current']['vis_km']\n",
    "    updated=dateFormat(response['current']['last_updated'])\n",
    "\n",
    "    data['location'].append(location)\n",
    "    data['region'].append(region)\n",
    "    data['temperature'].append(temperature)\n",
    "    data['condition'].append(condition)\n",
    "    data['wind'].append(wind)\n",
    "    data['wind_direction'].append(wind_direction)\n",
    "    data['humidity'].append(humidity)\n",
    "    data['feels_like'].append(feels_like)\n",
    "    data['visibility'].append(visibility)\n",
    "    data['updated'].append(updated)\n",
    "    \n",
    "df=pd.DataFrame(data)"
   ]
  },
  {
   "cell_type": "code",
   "execution_count": 23,
   "metadata": {},
   "outputs": [
    {
     "data": {
      "text/html": [
       "<div>\n",
       "<style scoped>\n",
       "    .dataframe tbody tr th:only-of-type {\n",
       "        vertical-align: middle;\n",
       "    }\n",
       "\n",
       "    .dataframe tbody tr th {\n",
       "        vertical-align: top;\n",
       "    }\n",
       "\n",
       "    .dataframe thead th {\n",
       "        text-align: right;\n",
       "    }\n",
       "</style>\n",
       "<table border=\"1\" class=\"dataframe\">\n",
       "  <thead>\n",
       "    <tr style=\"text-align: right;\">\n",
       "      <th></th>\n",
       "      <th>location</th>\n",
       "      <th>region</th>\n",
       "      <th>temperature</th>\n",
       "      <th>condition</th>\n",
       "      <th>wind</th>\n",
       "      <th>wind_direction</th>\n",
       "      <th>humidity</th>\n",
       "      <th>feels_like</th>\n",
       "      <th>visibility</th>\n",
       "      <th>updated</th>\n",
       "    </tr>\n",
       "  </thead>\n",
       "  <tbody>\n",
       "    <tr>\n",
       "      <th>0</th>\n",
       "      <td>Buenos Aires</td>\n",
       "      <td>Distrito Federal</td>\n",
       "      <td>27.0</td>\n",
       "      <td>Sunny</td>\n",
       "      <td>20.2</td>\n",
       "      <td>NW</td>\n",
       "      <td>62</td>\n",
       "      <td>27.0</td>\n",
       "      <td>10.0</td>\n",
       "      <td>2024-03-30 12:00:00</td>\n",
       "    </tr>\n",
       "    <tr>\n",
       "      <th>1</th>\n",
       "      <td>Catamarca</td>\n",
       "      <td>Catamarca</td>\n",
       "      <td>31.8</td>\n",
       "      <td>Sunny</td>\n",
       "      <td>3.6</td>\n",
       "      <td>ESE</td>\n",
       "      <td>41</td>\n",
       "      <td>32.7</td>\n",
       "      <td>10.0</td>\n",
       "      <td>2024-03-30 12:00:00</td>\n",
       "    </tr>\n",
       "    <tr>\n",
       "      <th>2</th>\n",
       "      <td>Córdoba</td>\n",
       "      <td>Cordoba</td>\n",
       "      <td>29.0</td>\n",
       "      <td>Sunny</td>\n",
       "      <td>16.9</td>\n",
       "      <td>N</td>\n",
       "      <td>55</td>\n",
       "      <td>28.4</td>\n",
       "      <td>10.0</td>\n",
       "      <td>2024-03-30 12:00:00</td>\n",
       "    </tr>\n",
       "    <tr>\n",
       "      <th>3</th>\n",
       "      <td>Cataratas Del Iguazu</td>\n",
       "      <td>Misiones</td>\n",
       "      <td>31.0</td>\n",
       "      <td>Sunny</td>\n",
       "      <td>4.0</td>\n",
       "      <td>NNW</td>\n",
       "      <td>59</td>\n",
       "      <td>30.9</td>\n",
       "      <td>10.0</td>\n",
       "      <td>2024-03-30 12:00:00</td>\n",
       "    </tr>\n",
       "    <tr>\n",
       "      <th>4</th>\n",
       "      <td>Comodoro Rivadavia</td>\n",
       "      <td>Distrito Federal</td>\n",
       "      <td>12.0</td>\n",
       "      <td>Sunny</td>\n",
       "      <td>29.9</td>\n",
       "      <td>W</td>\n",
       "      <td>38</td>\n",
       "      <td>8.8</td>\n",
       "      <td>10.0</td>\n",
       "      <td>2024-03-30 12:00:00</td>\n",
       "    </tr>\n",
       "  </tbody>\n",
       "</table>\n",
       "</div>"
      ],
      "text/plain": [
       "               location            region  temperature condition  wind  \\\n",
       "0          Buenos Aires  Distrito Federal         27.0     Sunny  20.2   \n",
       "1             Catamarca         Catamarca         31.8     Sunny   3.6   \n",
       "2               Córdoba           Cordoba         29.0     Sunny  16.9   \n",
       "3  Cataratas Del Iguazu          Misiones         31.0     Sunny   4.0   \n",
       "4    Comodoro Rivadavia  Distrito Federal         12.0     Sunny  29.9   \n",
       "\n",
       "  wind_direction  humidity  feels_like  visibility             updated  \n",
       "0             NW        62        27.0        10.0 2024-03-30 12:00:00  \n",
       "1            ESE        41        32.7        10.0 2024-03-30 12:00:00  \n",
       "2              N        55        28.4        10.0 2024-03-30 12:00:00  \n",
       "3            NNW        59        30.9        10.0 2024-03-30 12:00:00  \n",
       "4              W        38         8.8        10.0 2024-03-30 12:00:00  "
      ]
     },
     "execution_count": 23,
     "metadata": {},
     "output_type": "execute_result"
    }
   ],
   "source": [
    "#Limpieza del dataframe:\n",
    "\n",
    "#Eliminando datos nulos y duplicados:\n",
    "df.dropna()\n",
    "df.drop_duplicates(subset='location')\n",
    "\n",
    "df.head(5)"
   ]
  },
  {
   "cell_type": "code",
   "execution_count": 24,
   "metadata": {},
   "outputs": [],
   "source": [
    "cursor.close()\n",
    "conn.close()"
   ]
  }
 ],
 "metadata": {
  "kernelspec": {
   "display_name": "Python 3",
   "language": "python",
   "name": "python3"
  },
  "language_info": {
   "codemirror_mode": {
    "name": "ipython",
    "version": 3
   },
   "file_extension": ".py",
   "mimetype": "text/x-python",
   "name": "python",
   "nbconvert_exporter": "python",
   "pygments_lexer": "ipython3",
   "version": "3.12.1"
  }
 },
 "nbformat": 4,
 "nbformat_minor": 2
}
